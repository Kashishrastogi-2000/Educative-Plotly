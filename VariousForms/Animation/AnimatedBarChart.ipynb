# Import library 
import plotly.express as px
import pandas as pd

# Calling the dataset
df = pd.read_excel(r"D:\Educative\Various Forms\World Economy.xlsx", sheet_name='Continets')
df = df[df['Continents']!='World']

# Creating an animated bar chart
fig = px.histogram(df, x="Continents", y="Value", color="Continents",
                   animation_frame="Year",
                   animation_group="Continents", 
                   color_discrete_sequence=px.colors.qualitative.T10,
                   title='Continents GDP from 2015-2023')
fig.show()
