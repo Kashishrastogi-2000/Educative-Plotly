{
 "cells": [
  {
   "cell_type": "code",
   "execution_count": 3,
   "metadata": {},
   "outputs": [
    {
     "data": {
      "application/vnd.plotly.v1+json": {
       "config": {
        "plotlyServerURL": "https://plotly.com"
       },
       "data": [
        {
         "legendgroup": "2002",
         "line": {
          "color": "grey"
         },
         "meanline": {
          "visible": true
         },
         "name": "2002",
         "scalegroup": "2002",
         "side": "negative",
         "type": "violin",
         "x": [
          "Asia & Oceania",
          "Europe",
          "Africa",
          "Africa",
          "Americas",
          "Asia & Oceania",
          "Europe",
          "Asia & Oceania",
          "Asia & Oceania",
          "Europe",
          "Africa",
          "Americas",
          "Europe",
          "Africa",
          "Americas",
          "Europe",
          "Africa",
          "Africa",
          "Asia & Oceania",
          "Africa",
          "Americas",
          "Africa",
          "Africa",
          "Americas",
          "Asia & Oceania",
          "Americas",
          "Africa",
          "Africa",
          "Africa",
          "Americas",
          "Africa",
          "Europe",
          "Americas",
          "Europe",
          "Europe",
          "Africa",
          "Americas",
          "Americas",
          "Africa",
          "Americas",
          "Africa",
          "Africa",
          "Africa",
          "Europe",
          "Europe",
          "Africa",
          "Africa",
          "Europe",
          "Africa",
          "Europe",
          "Americas",
          "Africa",
          "Africa",
          "Americas",
          "Americas",
          "Asia & Oceania",
          "Europe",
          "Europe",
          "Asia & Oceania",
          "Asia & Oceania",
          "Asia & Oceania",
          "Asia & Oceania",
          "Europe",
          "Asia & Oceania",
          "Europe",
          "Americas",
          "Asia & Oceania",
          "Asia & Oceania",
          "Africa",
          "Asia & Oceania",
          "Asia & Oceania",
          "Asia & Oceania",
          "Asia & Oceania",
          "Africa",
          "Africa",
          "Africa",
          "Africa",
          "Africa",
          "Asia & Oceania",
          "Africa",
          "Africa",
          "Africa",
          "Americas",
          "Asia & Oceania",
          "Europe",
          "Africa",
          "Africa",
          "Asia & Oceania",
          "Africa",
          "Asia & Oceania",
          "Europe",
          "Asia & Oceania",
          "Americas",
          "Africa",
          "Africa",
          "Europe",
          "Asia & Oceania",
          "Asia & Oceania",
          "Americas",
          "Americas",
          "Americas",
          "Asia & Oceania",
          "Europe",
          "Europe",
          "Americas",
          "Africa",
          "Europe",
          "Africa",
          "Africa",
          "Asia & Oceania",
          "Africa",
          "Europe",
          "Africa",
          "Asia & Oceania",
          "Europe",
          "Europe",
          "Africa",
          "Africa",
          "Europe",
          "Asia & Oceania",
          "Africa",
          "Africa",
          "Europe",
          "Europe",
          "Asia & Oceania",
          "Asia & Oceania",
          "Africa",
          "Asia & Oceania",
          "Africa",
          "Americas",
          "Africa",
          "Europe",
          "Africa",
          "Europe",
          "Americas",
          "Americas",
          "Americas",
          "Asia & Oceania",
          "Asia & Oceania",
          "Asia & Oceania",
          "Africa",
          "Africa"
         ],
         "y": [
          42.129,
          75.65100000000002,
          70.994,
          41.003,
          74.34,
          80.37,
          78.98,
          74.795,
          62.01300000000001,
          78.32,
          54.40600000000001,
          63.883,
          74.09,
          46.63399999999999,
          71.006,
          72.14,
          50.65,
          47.36,
          56.751999999999995,
          49.856,
          79.77,
          43.308,
          50.525,
          77.86,
          72.028,
          71.682,
          62.974,
          44.966,
          52.97,
          78.123,
          46.832,
          74.876,
          77.158,
          75.51,
          77.18,
          53.37300000000001,
          70.847,
          74.173,
          69.806,
          70.734,
          49.348,
          55.24,
          50.725,
          78.37,
          79.59,
          56.761,
          58.041000000000004,
          78.67,
          58.453,
          78.256,
          68.97800000000001,
          53.676,
          45.504,
          58.137,
          68.565,
          81.495,
          72.59,
          80.5,
          62.879,
          68.58800000000001,
          69.45100000000001,
          57.04600000000001,
          77.783,
          79.696,
          80.24,
          72.047,
          82,
          71.263,
          50.992,
          66.66199999999999,
          77.045,
          76.904,
          71.028,
          44.593,
          43.753,
          72.737,
          57.286,
          45.00899999999999,
          73.044,
          51.81800000000001,
          62.247,
          71.954,
          74.902,
          65.033,
          73.98100000000002,
          69.615,
          44.026,
          59.908,
          51.479,
          61.34,
          78.53,
          79.11,
          70.836,
          54.496,
          46.608000000000004,
          79.05,
          74.193,
          63.61,
          74.712,
          70.755,
          69.906,
          70.303,
          74.67,
          77.29,
          77.778,
          75.744,
          71.322,
          43.413000000000004,
          64.337,
          71.626,
          61.6,
          73.21300000000002,
          41.012,
          78.77,
          73.8,
          76.66,
          45.93600000000001,
          53.365,
          79.78,
          70.815,
          56.369,
          43.869,
          80.04,
          80.62,
          73.053,
          76.99,
          49.651,
          68.564,
          57.56100000000001,
          68.976,
          73.042,
          70.845,
          47.813,
          78.471,
          77.31,
          75.307,
          72.766,
          73.017,
          72.37,
          60.308,
          39.19300000000001,
          39.989000000000004
         ]
        },
        {
         "legendgroup": "2007",
         "line": {
          "color": "black"
         },
         "meanline": {
          "visible": true
         },
         "name": "2007",
         "scalegroup": "2007",
         "side": "positive",
         "type": "violin",
         "x": [
          "Asia & Oceania",
          "Europe",
          "Africa",
          "Africa",
          "Americas",
          "Asia & Oceania",
          "Europe",
          "Asia & Oceania",
          "Asia & Oceania",
          "Europe",
          "Africa",
          "Americas",
          "Europe",
          "Africa",
          "Americas",
          "Europe",
          "Africa",
          "Africa",
          "Asia & Oceania",
          "Africa",
          "Americas",
          "Africa",
          "Africa",
          "Americas",
          "Asia & Oceania",
          "Americas",
          "Africa",
          "Africa",
          "Africa",
          "Americas",
          "Africa",
          "Europe",
          "Americas",
          "Europe",
          "Europe",
          "Africa",
          "Americas",
          "Americas",
          "Africa",
          "Americas",
          "Africa",
          "Africa",
          "Africa",
          "Europe",
          "Europe",
          "Africa",
          "Africa",
          "Europe",
          "Africa",
          "Europe",
          "Americas",
          "Africa",
          "Africa",
          "Americas",
          "Americas",
          "Asia & Oceania",
          "Europe",
          "Europe",
          "Asia & Oceania",
          "Asia & Oceania",
          "Asia & Oceania",
          "Asia & Oceania",
          "Europe",
          "Asia & Oceania",
          "Europe",
          "Americas",
          "Asia & Oceania",
          "Asia & Oceania",
          "Africa",
          "Asia & Oceania",
          "Asia & Oceania",
          "Asia & Oceania",
          "Asia & Oceania",
          "Africa",
          "Africa",
          "Africa",
          "Africa",
          "Africa",
          "Asia & Oceania",
          "Africa",
          "Africa",
          "Africa",
          "Americas",
          "Asia & Oceania",
          "Europe",
          "Africa",
          "Africa",
          "Asia & Oceania",
          "Africa",
          "Asia & Oceania",
          "Europe",
          "Asia & Oceania",
          "Americas",
          "Africa",
          "Africa",
          "Europe",
          "Asia & Oceania",
          "Asia & Oceania",
          "Americas",
          "Americas",
          "Americas",
          "Asia & Oceania",
          "Europe",
          "Europe",
          "Americas",
          "Africa",
          "Europe",
          "Africa",
          "Africa",
          "Asia & Oceania",
          "Africa",
          "Europe",
          "Africa",
          "Asia & Oceania",
          "Europe",
          "Europe",
          "Africa",
          "Africa",
          "Europe",
          "Asia & Oceania",
          "Africa",
          "Africa",
          "Europe",
          "Europe",
          "Asia & Oceania",
          "Asia & Oceania",
          "Africa",
          "Asia & Oceania",
          "Africa",
          "Americas",
          "Africa",
          "Europe",
          "Africa",
          "Europe",
          "Americas",
          "Americas",
          "Americas",
          "Asia & Oceania",
          "Asia & Oceania",
          "Asia & Oceania",
          "Africa",
          "Africa"
         ],
         "y": [
          43.828,
          76.423,
          72.301,
          42.731,
          75.32,
          81.235,
          79.829,
          75.635,
          64.062,
          79.441,
          56.728,
          65.554,
          74.852,
          50.728,
          72.39,
          73.005,
          52.295,
          49.58,
          59.723,
          50.43,
          80.653,
          44.74100000000001,
          50.651,
          78.553,
          72.961,
          72.889,
          65.152,
          46.461999999999996,
          55.321999999999996,
          78.782,
          48.328,
          75.748,
          78.273,
          76.486,
          78.332,
          54.791000000000004,
          72.235,
          74.994,
          71.33800000000002,
          71.878,
          51.57899999999999,
          58.04,
          52.946999999999996,
          79.313,
          80.657,
          56.735,
          59.448,
          79.406,
          60.022,
          79.483,
          70.259,
          56.007,
          46.38800000000001,
          60.916000000000004,
          70.19800000000001,
          82.208,
          73.33800000000002,
          81.757,
          64.69800000000001,
          70.65,
          70.964,
          59.545,
          78.885,
          80.745,
          80.546,
          72.567,
          82.603,
          72.535,
          54.11,
          67.297,
          78.623,
          77.58800000000002,
          71.993,
          42.592,
          45.678000000000004,
          73.952,
          59.44300000000001,
          48.303000000000004,
          74.241,
          54.467,
          64.164,
          72.801,
          76.195,
          66.803,
          74.543,
          71.164,
          42.082,
          62.068999999999996,
          52.90600000000001,
          63.785,
          79.762,
          80.204,
          72.899,
          56.867,
          46.858999999999995,
          80.196,
          75.64,
          65.483,
          75.53699999999998,
          71.752,
          71.421,
          71.688,
          75.563,
          78.098,
          78.74600000000002,
          76.442,
          72.476,
          46.242,
          65.528,
          72.777,
          63.062,
          74.002,
          42.56800000000001,
          79.972,
          74.663,
          77.926,
          48.159,
          49.339,
          80.941,
          72.396,
          58.556000000000004,
          39.613,
          80.884,
          81.70100000000002,
          74.143,
          78.4,
          52.516999999999996,
          70.616,
          58.42,
          69.819,
          73.923,
          71.777,
          51.542,
          79.425,
          78.242,
          76.384,
          73.747,
          74.249,
          73.422,
          62.698,
          42.38399999999999,
          43.486999999999995
         ]
        }
       ],
       "layout": {
        "template": {
         "data": {
          "bar": [
           {
            "error_x": {
             "color": "#2a3f5f"
            },
            "error_y": {
             "color": "#2a3f5f"
            },
            "marker": {
             "line": {
              "color": "white",
              "width": 0.5
             },
             "pattern": {
              "fillmode": "overlay",
              "size": 10,
              "solidity": 0.2
             }
            },
            "type": "bar"
           }
          ],
          "barpolar": [
           {
            "marker": {
             "line": {
              "color": "white",
              "width": 0.5
             },
             "pattern": {
              "fillmode": "overlay",
              "size": 10,
              "solidity": 0.2
             }
            },
            "type": "barpolar"
           }
          ],
          "carpet": [
           {
            "aaxis": {
             "endlinecolor": "#2a3f5f",
             "gridcolor": "#C8D4E3",
             "linecolor": "#C8D4E3",
             "minorgridcolor": "#C8D4E3",
             "startlinecolor": "#2a3f5f"
            },
            "baxis": {
             "endlinecolor": "#2a3f5f",
             "gridcolor": "#C8D4E3",
             "linecolor": "#C8D4E3",
             "minorgridcolor": "#C8D4E3",
             "startlinecolor": "#2a3f5f"
            },
            "type": "carpet"
           }
          ],
          "choropleth": [
           {
            "colorbar": {
             "outlinewidth": 0,
             "ticks": ""
            },
            "type": "choropleth"
           }
          ],
          "contour": [
           {
            "colorbar": {
             "outlinewidth": 0,
             "ticks": ""
            },
            "colorscale": [
             [
              0,
              "#0d0887"
             ],
             [
              0.1111111111111111,
              "#46039f"
             ],
             [
              0.2222222222222222,
              "#7201a8"
             ],
             [
              0.3333333333333333,
              "#9c179e"
             ],
             [
              0.4444444444444444,
              "#bd3786"
             ],
             [
              0.5555555555555556,
              "#d8576b"
             ],
             [
              0.6666666666666666,
              "#ed7953"
             ],
             [
              0.7777777777777778,
              "#fb9f3a"
             ],
             [
              0.8888888888888888,
              "#fdca26"
             ],
             [
              1,
              "#f0f921"
             ]
            ],
            "type": "contour"
           }
          ],
          "contourcarpet": [
           {
            "colorbar": {
             "outlinewidth": 0,
             "ticks": ""
            },
            "type": "contourcarpet"
           }
          ],
          "heatmap": [
           {
            "colorbar": {
             "outlinewidth": 0,
             "ticks": ""
            },
            "colorscale": [
             [
              0,
              "#0d0887"
             ],
             [
              0.1111111111111111,
              "#46039f"
             ],
             [
              0.2222222222222222,
              "#7201a8"
             ],
             [
              0.3333333333333333,
              "#9c179e"
             ],
             [
              0.4444444444444444,
              "#bd3786"
             ],
             [
              0.5555555555555556,
              "#d8576b"
             ],
             [
              0.6666666666666666,
              "#ed7953"
             ],
             [
              0.7777777777777778,
              "#fb9f3a"
             ],
             [
              0.8888888888888888,
              "#fdca26"
             ],
             [
              1,
              "#f0f921"
             ]
            ],
            "type": "heatmap"
           }
          ],
          "heatmapgl": [
           {
            "colorbar": {
             "outlinewidth": 0,
             "ticks": ""
            },
            "colorscale": [
             [
              0,
              "#0d0887"
             ],
             [
              0.1111111111111111,
              "#46039f"
             ],
             [
              0.2222222222222222,
              "#7201a8"
             ],
             [
              0.3333333333333333,
              "#9c179e"
             ],
             [
              0.4444444444444444,
              "#bd3786"
             ],
             [
              0.5555555555555556,
              "#d8576b"
             ],
             [
              0.6666666666666666,
              "#ed7953"
             ],
             [
              0.7777777777777778,
              "#fb9f3a"
             ],
             [
              0.8888888888888888,
              "#fdca26"
             ],
             [
              1,
              "#f0f921"
             ]
            ],
            "type": "heatmapgl"
           }
          ],
          "histogram": [
           {
            "marker": {
             "pattern": {
              "fillmode": "overlay",
              "size": 10,
              "solidity": 0.2
             }
            },
            "type": "histogram"
           }
          ],
          "histogram2d": [
           {
            "colorbar": {
             "outlinewidth": 0,
             "ticks": ""
            },
            "colorscale": [
             [
              0,
              "#0d0887"
             ],
             [
              0.1111111111111111,
              "#46039f"
             ],
             [
              0.2222222222222222,
              "#7201a8"
             ],
             [
              0.3333333333333333,
              "#9c179e"
             ],
             [
              0.4444444444444444,
              "#bd3786"
             ],
             [
              0.5555555555555556,
              "#d8576b"
             ],
             [
              0.6666666666666666,
              "#ed7953"
             ],
             [
              0.7777777777777778,
              "#fb9f3a"
             ],
             [
              0.8888888888888888,
              "#fdca26"
             ],
             [
              1,
              "#f0f921"
             ]
            ],
            "type": "histogram2d"
           }
          ],
          "histogram2dcontour": [
           {
            "colorbar": {
             "outlinewidth": 0,
             "ticks": ""
            },
            "colorscale": [
             [
              0,
              "#0d0887"
             ],
             [
              0.1111111111111111,
              "#46039f"
             ],
             [
              0.2222222222222222,
              "#7201a8"
             ],
             [
              0.3333333333333333,
              "#9c179e"
             ],
             [
              0.4444444444444444,
              "#bd3786"
             ],
             [
              0.5555555555555556,
              "#d8576b"
             ],
             [
              0.6666666666666666,
              "#ed7953"
             ],
             [
              0.7777777777777778,
              "#fb9f3a"
             ],
             [
              0.8888888888888888,
              "#fdca26"
             ],
             [
              1,
              "#f0f921"
             ]
            ],
            "type": "histogram2dcontour"
           }
          ],
          "mesh3d": [
           {
            "colorbar": {
             "outlinewidth": 0,
             "ticks": ""
            },
            "type": "mesh3d"
           }
          ],
          "parcoords": [
           {
            "line": {
             "colorbar": {
              "outlinewidth": 0,
              "ticks": ""
             }
            },
            "type": "parcoords"
           }
          ],
          "pie": [
           {
            "automargin": true,
            "type": "pie"
           }
          ],
          "scatter": [
           {
            "fillpattern": {
             "fillmode": "overlay",
             "size": 10,
             "solidity": 0.2
            },
            "type": "scatter"
           }
          ],
          "scatter3d": [
           {
            "line": {
             "colorbar": {
              "outlinewidth": 0,
              "ticks": ""
             }
            },
            "marker": {
             "colorbar": {
              "outlinewidth": 0,
              "ticks": ""
             }
            },
            "type": "scatter3d"
           }
          ],
          "scattercarpet": [
           {
            "marker": {
             "colorbar": {
              "outlinewidth": 0,
              "ticks": ""
             }
            },
            "type": "scattercarpet"
           }
          ],
          "scattergeo": [
           {
            "marker": {
             "colorbar": {
              "outlinewidth": 0,
              "ticks": ""
             }
            },
            "type": "scattergeo"
           }
          ],
          "scattergl": [
           {
            "marker": {
             "colorbar": {
              "outlinewidth": 0,
              "ticks": ""
             }
            },
            "type": "scattergl"
           }
          ],
          "scattermapbox": [
           {
            "marker": {
             "colorbar": {
              "outlinewidth": 0,
              "ticks": ""
             }
            },
            "type": "scattermapbox"
           }
          ],
          "scatterpolar": [
           {
            "marker": {
             "colorbar": {
              "outlinewidth": 0,
              "ticks": ""
             }
            },
            "type": "scatterpolar"
           }
          ],
          "scatterpolargl": [
           {
            "marker": {
             "colorbar": {
              "outlinewidth": 0,
              "ticks": ""
             }
            },
            "type": "scatterpolargl"
           }
          ],
          "scatterternary": [
           {
            "marker": {
             "colorbar": {
              "outlinewidth": 0,
              "ticks": ""
             }
            },
            "type": "scatterternary"
           }
          ],
          "surface": [
           {
            "colorbar": {
             "outlinewidth": 0,
             "ticks": ""
            },
            "colorscale": [
             [
              0,
              "#0d0887"
             ],
             [
              0.1111111111111111,
              "#46039f"
             ],
             [
              0.2222222222222222,
              "#7201a8"
             ],
             [
              0.3333333333333333,
              "#9c179e"
             ],
             [
              0.4444444444444444,
              "#bd3786"
             ],
             [
              0.5555555555555556,
              "#d8576b"
             ],
             [
              0.6666666666666666,
              "#ed7953"
             ],
             [
              0.7777777777777778,
              "#fb9f3a"
             ],
             [
              0.8888888888888888,
              "#fdca26"
             ],
             [
              1,
              "#f0f921"
             ]
            ],
            "type": "surface"
           }
          ],
          "table": [
           {
            "cells": {
             "fill": {
              "color": "#EBF0F8"
             },
             "line": {
              "color": "white"
             }
            },
            "header": {
             "fill": {
              "color": "#C8D4E3"
             },
             "line": {
              "color": "white"
             }
            },
            "type": "table"
           }
          ]
         },
         "layout": {
          "annotationdefaults": {
           "arrowcolor": "#2a3f5f",
           "arrowhead": 0,
           "arrowwidth": 1
          },
          "autotypenumbers": "strict",
          "coloraxis": {
           "colorbar": {
            "outlinewidth": 0,
            "ticks": ""
           }
          },
          "colorscale": {
           "diverging": [
            [
             0,
             "#8e0152"
            ],
            [
             0.1,
             "#c51b7d"
            ],
            [
             0.2,
             "#de77ae"
            ],
            [
             0.3,
             "#f1b6da"
            ],
            [
             0.4,
             "#fde0ef"
            ],
            [
             0.5,
             "#f7f7f7"
            ],
            [
             0.6,
             "#e6f5d0"
            ],
            [
             0.7,
             "#b8e186"
            ],
            [
             0.8,
             "#7fbc41"
            ],
            [
             0.9,
             "#4d9221"
            ],
            [
             1,
             "#276419"
            ]
           ],
           "sequential": [
            [
             0,
             "#0d0887"
            ],
            [
             0.1111111111111111,
             "#46039f"
            ],
            [
             0.2222222222222222,
             "#7201a8"
            ],
            [
             0.3333333333333333,
             "#9c179e"
            ],
            [
             0.4444444444444444,
             "#bd3786"
            ],
            [
             0.5555555555555556,
             "#d8576b"
            ],
            [
             0.6666666666666666,
             "#ed7953"
            ],
            [
             0.7777777777777778,
             "#fb9f3a"
            ],
            [
             0.8888888888888888,
             "#fdca26"
            ],
            [
             1,
             "#f0f921"
            ]
           ],
           "sequentialminus": [
            [
             0,
             "#0d0887"
            ],
            [
             0.1111111111111111,
             "#46039f"
            ],
            [
             0.2222222222222222,
             "#7201a8"
            ],
            [
             0.3333333333333333,
             "#9c179e"
            ],
            [
             0.4444444444444444,
             "#bd3786"
            ],
            [
             0.5555555555555556,
             "#d8576b"
            ],
            [
             0.6666666666666666,
             "#ed7953"
            ],
            [
             0.7777777777777778,
             "#fb9f3a"
            ],
            [
             0.8888888888888888,
             "#fdca26"
            ],
            [
             1,
             "#f0f921"
            ]
           ]
          },
          "colorway": [
           "#636efa",
           "#EF553B",
           "#00cc96",
           "#ab63fa",
           "#FFA15A",
           "#19d3f3",
           "#FF6692",
           "#B6E880",
           "#FF97FF",
           "#FECB52"
          ],
          "font": {
           "color": "#2a3f5f"
          },
          "geo": {
           "bgcolor": "white",
           "lakecolor": "white",
           "landcolor": "white",
           "showlakes": true,
           "showland": true,
           "subunitcolor": "#C8D4E3"
          },
          "hoverlabel": {
           "align": "left"
          },
          "hovermode": "closest",
          "mapbox": {
           "style": "light"
          },
          "paper_bgcolor": "white",
          "plot_bgcolor": "white",
          "polar": {
           "angularaxis": {
            "gridcolor": "#EBF0F8",
            "linecolor": "#EBF0F8",
            "ticks": ""
           },
           "bgcolor": "white",
           "radialaxis": {
            "gridcolor": "#EBF0F8",
            "linecolor": "#EBF0F8",
            "ticks": ""
           }
          },
          "scene": {
           "xaxis": {
            "backgroundcolor": "white",
            "gridcolor": "#DFE8F3",
            "gridwidth": 2,
            "linecolor": "#EBF0F8",
            "showbackground": true,
            "ticks": "",
            "zerolinecolor": "#EBF0F8"
           },
           "yaxis": {
            "backgroundcolor": "white",
            "gridcolor": "#DFE8F3",
            "gridwidth": 2,
            "linecolor": "#EBF0F8",
            "showbackground": true,
            "ticks": "",
            "zerolinecolor": "#EBF0F8"
           },
           "zaxis": {
            "backgroundcolor": "white",
            "gridcolor": "#DFE8F3",
            "gridwidth": 2,
            "linecolor": "#EBF0F8",
            "showbackground": true,
            "ticks": "",
            "zerolinecolor": "#EBF0F8"
           }
          },
          "shapedefaults": {
           "line": {
            "color": "#2a3f5f"
           }
          },
          "ternary": {
           "aaxis": {
            "gridcolor": "#DFE8F3",
            "linecolor": "#A2B1C6",
            "ticks": ""
           },
           "baxis": {
            "gridcolor": "#DFE8F3",
            "linecolor": "#A2B1C6",
            "ticks": ""
           },
           "bgcolor": "white",
           "caxis": {
            "gridcolor": "#DFE8F3",
            "linecolor": "#A2B1C6",
            "ticks": ""
           }
          },
          "title": {
           "x": 0.05
          },
          "xaxis": {
           "automargin": true,
           "gridcolor": "#EBF0F8",
           "linecolor": "#EBF0F8",
           "ticks": "",
           "title": {
            "standoff": 15
           },
           "zerolinecolor": "#EBF0F8",
           "zerolinewidth": 2
          },
          "yaxis": {
           "automargin": true,
           "gridcolor": "#EBF0F8",
           "linecolor": "#EBF0F8",
           "ticks": "",
           "title": {
            "standoff": 15
           },
           "zerolinecolor": "#EBF0F8",
           "zerolinewidth": 2
          }
         }
        },
        "violingap": 0,
        "violinmode": "overlay"
       }
      },
      "text/html": [
       "<div>                            <div id=\"63b2da01-3d76-4867-a25b-84ba0e02da30\" class=\"plotly-graph-div\" style=\"height:525px; width:100%;\"></div>            <script type=\"text/javascript\">                require([\"plotly\"], function(Plotly) {                    window.PLOTLYENV=window.PLOTLYENV || {};                                    if (document.getElementById(\"63b2da01-3d76-4867-a25b-84ba0e02da30\")) {                    Plotly.newPlot(                        \"63b2da01-3d76-4867-a25b-84ba0e02da30\",                        [{\"legendgroup\":\"2002\",\"line\":{\"color\":\"grey\"},\"name\":\"2002\",\"scalegroup\":\"2002\",\"side\":\"negative\",\"x\":[\"Asia & Oceania\",\"Europe\",\"Africa\",\"Africa\",\"Americas\",\"Asia & Oceania\",\"Europe\",\"Asia & Oceania\",\"Asia & Oceania\",\"Europe\",\"Africa\",\"Americas\",\"Europe\",\"Africa\",\"Americas\",\"Europe\",\"Africa\",\"Africa\",\"Asia & Oceania\",\"Africa\",\"Americas\",\"Africa\",\"Africa\",\"Americas\",\"Asia & Oceania\",\"Americas\",\"Africa\",\"Africa\",\"Africa\",\"Americas\",\"Africa\",\"Europe\",\"Americas\",\"Europe\",\"Europe\",\"Africa\",\"Americas\",\"Americas\",\"Africa\",\"Americas\",\"Africa\",\"Africa\",\"Africa\",\"Europe\",\"Europe\",\"Africa\",\"Africa\",\"Europe\",\"Africa\",\"Europe\",\"Americas\",\"Africa\",\"Africa\",\"Americas\",\"Americas\",\"Asia & Oceania\",\"Europe\",\"Europe\",\"Asia & Oceania\",\"Asia & Oceania\",\"Asia & Oceania\",\"Asia & Oceania\",\"Europe\",\"Asia & Oceania\",\"Europe\",\"Americas\",\"Asia & Oceania\",\"Asia & Oceania\",\"Africa\",\"Asia & Oceania\",\"Asia & Oceania\",\"Asia & Oceania\",\"Asia & Oceania\",\"Africa\",\"Africa\",\"Africa\",\"Africa\",\"Africa\",\"Asia & Oceania\",\"Africa\",\"Africa\",\"Africa\",\"Americas\",\"Asia & Oceania\",\"Europe\",\"Africa\",\"Africa\",\"Asia & Oceania\",\"Africa\",\"Asia & Oceania\",\"Europe\",\"Asia & Oceania\",\"Americas\",\"Africa\",\"Africa\",\"Europe\",\"Asia & Oceania\",\"Asia & Oceania\",\"Americas\",\"Americas\",\"Americas\",\"Asia & Oceania\",\"Europe\",\"Europe\",\"Americas\",\"Africa\",\"Europe\",\"Africa\",\"Africa\",\"Asia & Oceania\",\"Africa\",\"Europe\",\"Africa\",\"Asia & Oceania\",\"Europe\",\"Europe\",\"Africa\",\"Africa\",\"Europe\",\"Asia & Oceania\",\"Africa\",\"Africa\",\"Europe\",\"Europe\",\"Asia & Oceania\",\"Asia & Oceania\",\"Africa\",\"Asia & Oceania\",\"Africa\",\"Americas\",\"Africa\",\"Europe\",\"Africa\",\"Europe\",\"Americas\",\"Americas\",\"Americas\",\"Asia & Oceania\",\"Asia & Oceania\",\"Asia & Oceania\",\"Africa\",\"Africa\"],\"y\":[42.129,75.65100000000002,70.994,41.003,74.34,80.37,78.98,74.795,62.01300000000001,78.32,54.40600000000001,63.883,74.09,46.63399999999999,71.006,72.14,50.65,47.36,56.751999999999995,49.856,79.77,43.308,50.525,77.86,72.028,71.682,62.974,44.966,52.97,78.123,46.832,74.876,77.158,75.51,77.18,53.37300000000001,70.847,74.173,69.806,70.734,49.348,55.24,50.725,78.37,79.59,56.761,58.041000000000004,78.67,58.453,78.256,68.97800000000001,53.676,45.504,58.137,68.565,81.495,72.59,80.5,62.879,68.58800000000001,69.45100000000001,57.04600000000001,77.783,79.696,80.24,72.047,82.0,71.263,50.992,66.66199999999999,77.045,76.904,71.028,44.593,43.753,72.737,57.286,45.00899999999999,73.044,51.81800000000001,62.247,71.954,74.902,65.033,73.98100000000002,69.615,44.026,59.908,51.479,61.34,78.53,79.11,70.836,54.496,46.608000000000004,79.05,74.193,63.61,74.712,70.755,69.906,70.303,74.67,77.29,77.778,75.744,71.322,43.413000000000004,64.337,71.626,61.6,73.21300000000002,41.012,78.77,73.8,76.66,45.93600000000001,53.365,79.78,70.815,56.369,43.869,80.04,80.62,73.053,76.99,49.651,68.564,57.56100000000001,68.976,73.042,70.845,47.813,78.471,77.31,75.307,72.766,73.017,72.37,60.308,39.19300000000001,39.989000000000004],\"type\":\"violin\",\"meanline\":{\"visible\":true}},{\"legendgroup\":\"2007\",\"line\":{\"color\":\"black\"},\"name\":\"2007\",\"scalegroup\":\"2007\",\"side\":\"positive\",\"x\":[\"Asia & Oceania\",\"Europe\",\"Africa\",\"Africa\",\"Americas\",\"Asia & Oceania\",\"Europe\",\"Asia & Oceania\",\"Asia & Oceania\",\"Europe\",\"Africa\",\"Americas\",\"Europe\",\"Africa\",\"Americas\",\"Europe\",\"Africa\",\"Africa\",\"Asia & Oceania\",\"Africa\",\"Americas\",\"Africa\",\"Africa\",\"Americas\",\"Asia & Oceania\",\"Americas\",\"Africa\",\"Africa\",\"Africa\",\"Americas\",\"Africa\",\"Europe\",\"Americas\",\"Europe\",\"Europe\",\"Africa\",\"Americas\",\"Americas\",\"Africa\",\"Americas\",\"Africa\",\"Africa\",\"Africa\",\"Europe\",\"Europe\",\"Africa\",\"Africa\",\"Europe\",\"Africa\",\"Europe\",\"Americas\",\"Africa\",\"Africa\",\"Americas\",\"Americas\",\"Asia & Oceania\",\"Europe\",\"Europe\",\"Asia & Oceania\",\"Asia & Oceania\",\"Asia & Oceania\",\"Asia & Oceania\",\"Europe\",\"Asia & Oceania\",\"Europe\",\"Americas\",\"Asia & Oceania\",\"Asia & Oceania\",\"Africa\",\"Asia & Oceania\",\"Asia & Oceania\",\"Asia & Oceania\",\"Asia & Oceania\",\"Africa\",\"Africa\",\"Africa\",\"Africa\",\"Africa\",\"Asia & Oceania\",\"Africa\",\"Africa\",\"Africa\",\"Americas\",\"Asia & Oceania\",\"Europe\",\"Africa\",\"Africa\",\"Asia & Oceania\",\"Africa\",\"Asia & Oceania\",\"Europe\",\"Asia & Oceania\",\"Americas\",\"Africa\",\"Africa\",\"Europe\",\"Asia & Oceania\",\"Asia & Oceania\",\"Americas\",\"Americas\",\"Americas\",\"Asia & Oceania\",\"Europe\",\"Europe\",\"Americas\",\"Africa\",\"Europe\",\"Africa\",\"Africa\",\"Asia & Oceania\",\"Africa\",\"Europe\",\"Africa\",\"Asia & Oceania\",\"Europe\",\"Europe\",\"Africa\",\"Africa\",\"Europe\",\"Asia & Oceania\",\"Africa\",\"Africa\",\"Europe\",\"Europe\",\"Asia & Oceania\",\"Asia & Oceania\",\"Africa\",\"Asia & Oceania\",\"Africa\",\"Americas\",\"Africa\",\"Europe\",\"Africa\",\"Europe\",\"Americas\",\"Americas\",\"Americas\",\"Asia & Oceania\",\"Asia & Oceania\",\"Asia & Oceania\",\"Africa\",\"Africa\"],\"y\":[43.828,76.423,72.301,42.731,75.32,81.235,79.829,75.635,64.062,79.441,56.728,65.554,74.852,50.728,72.39,73.005,52.295,49.58,59.723,50.43,80.653,44.74100000000001,50.651,78.553,72.961,72.889,65.152,46.461999999999996,55.321999999999996,78.782,48.328,75.748,78.273,76.486,78.332,54.791000000000004,72.235,74.994,71.33800000000002,71.878,51.57899999999999,58.04,52.946999999999996,79.313,80.657,56.735,59.448,79.406,60.022,79.483,70.259,56.007,46.38800000000001,60.916000000000004,70.19800000000001,82.208,73.33800000000002,81.757,64.69800000000001,70.65,70.964,59.545,78.885,80.745,80.546,72.567,82.603,72.535,54.11,67.297,78.623,77.58800000000002,71.993,42.592,45.678000000000004,73.952,59.44300000000001,48.303000000000004,74.241,54.467,64.164,72.801,76.195,66.803,74.543,71.164,42.082,62.068999999999996,52.90600000000001,63.785,79.762,80.204,72.899,56.867,46.858999999999995,80.196,75.64,65.483,75.53699999999998,71.752,71.421,71.688,75.563,78.098,78.74600000000002,76.442,72.476,46.242,65.528,72.777,63.062,74.002,42.56800000000001,79.972,74.663,77.926,48.159,49.339,80.941,72.396,58.556000000000004,39.613,80.884,81.70100000000002,74.143,78.4,52.516999999999996,70.616,58.42,69.819,73.923,71.777,51.542,79.425,78.242,76.384,73.747,74.249,73.422,62.698,42.38399999999999,43.486999999999995],\"type\":\"violin\",\"meanline\":{\"visible\":true}}],                        {\"template\":{\"data\":{\"barpolar\":[{\"marker\":{\"line\":{\"color\":\"white\",\"width\":0.5},\"pattern\":{\"fillmode\":\"overlay\",\"size\":10,\"solidity\":0.2}},\"type\":\"barpolar\"}],\"bar\":[{\"error_x\":{\"color\":\"#2a3f5f\"},\"error_y\":{\"color\":\"#2a3f5f\"},\"marker\":{\"line\":{\"color\":\"white\",\"width\":0.5},\"pattern\":{\"fillmode\":\"overlay\",\"size\":10,\"solidity\":0.2}},\"type\":\"bar\"}],\"carpet\":[{\"aaxis\":{\"endlinecolor\":\"#2a3f5f\",\"gridcolor\":\"#C8D4E3\",\"linecolor\":\"#C8D4E3\",\"minorgridcolor\":\"#C8D4E3\",\"startlinecolor\":\"#2a3f5f\"},\"baxis\":{\"endlinecolor\":\"#2a3f5f\",\"gridcolor\":\"#C8D4E3\",\"linecolor\":\"#C8D4E3\",\"minorgridcolor\":\"#C8D4E3\",\"startlinecolor\":\"#2a3f5f\"},\"type\":\"carpet\"}],\"choropleth\":[{\"colorbar\":{\"outlinewidth\":0,\"ticks\":\"\"},\"type\":\"choropleth\"}],\"contourcarpet\":[{\"colorbar\":{\"outlinewidth\":0,\"ticks\":\"\"},\"type\":\"contourcarpet\"}],\"contour\":[{\"colorbar\":{\"outlinewidth\":0,\"ticks\":\"\"},\"colorscale\":[[0.0,\"#0d0887\"],[0.1111111111111111,\"#46039f\"],[0.2222222222222222,\"#7201a8\"],[0.3333333333333333,\"#9c179e\"],[0.4444444444444444,\"#bd3786\"],[0.5555555555555556,\"#d8576b\"],[0.6666666666666666,\"#ed7953\"],[0.7777777777777778,\"#fb9f3a\"],[0.8888888888888888,\"#fdca26\"],[1.0,\"#f0f921\"]],\"type\":\"contour\"}],\"heatmapgl\":[{\"colorbar\":{\"outlinewidth\":0,\"ticks\":\"\"},\"colorscale\":[[0.0,\"#0d0887\"],[0.1111111111111111,\"#46039f\"],[0.2222222222222222,\"#7201a8\"],[0.3333333333333333,\"#9c179e\"],[0.4444444444444444,\"#bd3786\"],[0.5555555555555556,\"#d8576b\"],[0.6666666666666666,\"#ed7953\"],[0.7777777777777778,\"#fb9f3a\"],[0.8888888888888888,\"#fdca26\"],[1.0,\"#f0f921\"]],\"type\":\"heatmapgl\"}],\"heatmap\":[{\"colorbar\":{\"outlinewidth\":0,\"ticks\":\"\"},\"colorscale\":[[0.0,\"#0d0887\"],[0.1111111111111111,\"#46039f\"],[0.2222222222222222,\"#7201a8\"],[0.3333333333333333,\"#9c179e\"],[0.4444444444444444,\"#bd3786\"],[0.5555555555555556,\"#d8576b\"],[0.6666666666666666,\"#ed7953\"],[0.7777777777777778,\"#fb9f3a\"],[0.8888888888888888,\"#fdca26\"],[1.0,\"#f0f921\"]],\"type\":\"heatmap\"}],\"histogram2dcontour\":[{\"colorbar\":{\"outlinewidth\":0,\"ticks\":\"\"},\"colorscale\":[[0.0,\"#0d0887\"],[0.1111111111111111,\"#46039f\"],[0.2222222222222222,\"#7201a8\"],[0.3333333333333333,\"#9c179e\"],[0.4444444444444444,\"#bd3786\"],[0.5555555555555556,\"#d8576b\"],[0.6666666666666666,\"#ed7953\"],[0.7777777777777778,\"#fb9f3a\"],[0.8888888888888888,\"#fdca26\"],[1.0,\"#f0f921\"]],\"type\":\"histogram2dcontour\"}],\"histogram2d\":[{\"colorbar\":{\"outlinewidth\":0,\"ticks\":\"\"},\"colorscale\":[[0.0,\"#0d0887\"],[0.1111111111111111,\"#46039f\"],[0.2222222222222222,\"#7201a8\"],[0.3333333333333333,\"#9c179e\"],[0.4444444444444444,\"#bd3786\"],[0.5555555555555556,\"#d8576b\"],[0.6666666666666666,\"#ed7953\"],[0.7777777777777778,\"#fb9f3a\"],[0.8888888888888888,\"#fdca26\"],[1.0,\"#f0f921\"]],\"type\":\"histogram2d\"}],\"histogram\":[{\"marker\":{\"pattern\":{\"fillmode\":\"overlay\",\"size\":10,\"solidity\":0.2}},\"type\":\"histogram\"}],\"mesh3d\":[{\"colorbar\":{\"outlinewidth\":0,\"ticks\":\"\"},\"type\":\"mesh3d\"}],\"parcoords\":[{\"line\":{\"colorbar\":{\"outlinewidth\":0,\"ticks\":\"\"}},\"type\":\"parcoords\"}],\"pie\":[{\"automargin\":true,\"type\":\"pie\"}],\"scatter3d\":[{\"line\":{\"colorbar\":{\"outlinewidth\":0,\"ticks\":\"\"}},\"marker\":{\"colorbar\":{\"outlinewidth\":0,\"ticks\":\"\"}},\"type\":\"scatter3d\"}],\"scattercarpet\":[{\"marker\":{\"colorbar\":{\"outlinewidth\":0,\"ticks\":\"\"}},\"type\":\"scattercarpet\"}],\"scattergeo\":[{\"marker\":{\"colorbar\":{\"outlinewidth\":0,\"ticks\":\"\"}},\"type\":\"scattergeo\"}],\"scattergl\":[{\"marker\":{\"colorbar\":{\"outlinewidth\":0,\"ticks\":\"\"}},\"type\":\"scattergl\"}],\"scattermapbox\":[{\"marker\":{\"colorbar\":{\"outlinewidth\":0,\"ticks\":\"\"}},\"type\":\"scattermapbox\"}],\"scatterpolargl\":[{\"marker\":{\"colorbar\":{\"outlinewidth\":0,\"ticks\":\"\"}},\"type\":\"scatterpolargl\"}],\"scatterpolar\":[{\"marker\":{\"colorbar\":{\"outlinewidth\":0,\"ticks\":\"\"}},\"type\":\"scatterpolar\"}],\"scatter\":[{\"fillpattern\":{\"fillmode\":\"overlay\",\"size\":10,\"solidity\":0.2},\"type\":\"scatter\"}],\"scatterternary\":[{\"marker\":{\"colorbar\":{\"outlinewidth\":0,\"ticks\":\"\"}},\"type\":\"scatterternary\"}],\"surface\":[{\"colorbar\":{\"outlinewidth\":0,\"ticks\":\"\"},\"colorscale\":[[0.0,\"#0d0887\"],[0.1111111111111111,\"#46039f\"],[0.2222222222222222,\"#7201a8\"],[0.3333333333333333,\"#9c179e\"],[0.4444444444444444,\"#bd3786\"],[0.5555555555555556,\"#d8576b\"],[0.6666666666666666,\"#ed7953\"],[0.7777777777777778,\"#fb9f3a\"],[0.8888888888888888,\"#fdca26\"],[1.0,\"#f0f921\"]],\"type\":\"surface\"}],\"table\":[{\"cells\":{\"fill\":{\"color\":\"#EBF0F8\"},\"line\":{\"color\":\"white\"}},\"header\":{\"fill\":{\"color\":\"#C8D4E3\"},\"line\":{\"color\":\"white\"}},\"type\":\"table\"}]},\"layout\":{\"annotationdefaults\":{\"arrowcolor\":\"#2a3f5f\",\"arrowhead\":0,\"arrowwidth\":1},\"autotypenumbers\":\"strict\",\"coloraxis\":{\"colorbar\":{\"outlinewidth\":0,\"ticks\":\"\"}},\"colorscale\":{\"diverging\":[[0,\"#8e0152\"],[0.1,\"#c51b7d\"],[0.2,\"#de77ae\"],[0.3,\"#f1b6da\"],[0.4,\"#fde0ef\"],[0.5,\"#f7f7f7\"],[0.6,\"#e6f5d0\"],[0.7,\"#b8e186\"],[0.8,\"#7fbc41\"],[0.9,\"#4d9221\"],[1,\"#276419\"]],\"sequential\":[[0.0,\"#0d0887\"],[0.1111111111111111,\"#46039f\"],[0.2222222222222222,\"#7201a8\"],[0.3333333333333333,\"#9c179e\"],[0.4444444444444444,\"#bd3786\"],[0.5555555555555556,\"#d8576b\"],[0.6666666666666666,\"#ed7953\"],[0.7777777777777778,\"#fb9f3a\"],[0.8888888888888888,\"#fdca26\"],[1.0,\"#f0f921\"]],\"sequentialminus\":[[0.0,\"#0d0887\"],[0.1111111111111111,\"#46039f\"],[0.2222222222222222,\"#7201a8\"],[0.3333333333333333,\"#9c179e\"],[0.4444444444444444,\"#bd3786\"],[0.5555555555555556,\"#d8576b\"],[0.6666666666666666,\"#ed7953\"],[0.7777777777777778,\"#fb9f3a\"],[0.8888888888888888,\"#fdca26\"],[1.0,\"#f0f921\"]]},\"colorway\":[\"#636efa\",\"#EF553B\",\"#00cc96\",\"#ab63fa\",\"#FFA15A\",\"#19d3f3\",\"#FF6692\",\"#B6E880\",\"#FF97FF\",\"#FECB52\"],\"font\":{\"color\":\"#2a3f5f\"},\"geo\":{\"bgcolor\":\"white\",\"lakecolor\":\"white\",\"landcolor\":\"white\",\"showlakes\":true,\"showland\":true,\"subunitcolor\":\"#C8D4E3\"},\"hoverlabel\":{\"align\":\"left\"},\"hovermode\":\"closest\",\"mapbox\":{\"style\":\"light\"},\"paper_bgcolor\":\"white\",\"plot_bgcolor\":\"white\",\"polar\":{\"angularaxis\":{\"gridcolor\":\"#EBF0F8\",\"linecolor\":\"#EBF0F8\",\"ticks\":\"\"},\"bgcolor\":\"white\",\"radialaxis\":{\"gridcolor\":\"#EBF0F8\",\"linecolor\":\"#EBF0F8\",\"ticks\":\"\"}},\"scene\":{\"xaxis\":{\"backgroundcolor\":\"white\",\"gridcolor\":\"#DFE8F3\",\"gridwidth\":2,\"linecolor\":\"#EBF0F8\",\"showbackground\":true,\"ticks\":\"\",\"zerolinecolor\":\"#EBF0F8\"},\"yaxis\":{\"backgroundcolor\":\"white\",\"gridcolor\":\"#DFE8F3\",\"gridwidth\":2,\"linecolor\":\"#EBF0F8\",\"showbackground\":true,\"ticks\":\"\",\"zerolinecolor\":\"#EBF0F8\"},\"zaxis\":{\"backgroundcolor\":\"white\",\"gridcolor\":\"#DFE8F3\",\"gridwidth\":2,\"linecolor\":\"#EBF0F8\",\"showbackground\":true,\"ticks\":\"\",\"zerolinecolor\":\"#EBF0F8\"}},\"shapedefaults\":{\"line\":{\"color\":\"#2a3f5f\"}},\"ternary\":{\"aaxis\":{\"gridcolor\":\"#DFE8F3\",\"linecolor\":\"#A2B1C6\",\"ticks\":\"\"},\"baxis\":{\"gridcolor\":\"#DFE8F3\",\"linecolor\":\"#A2B1C6\",\"ticks\":\"\"},\"bgcolor\":\"white\",\"caxis\":{\"gridcolor\":\"#DFE8F3\",\"linecolor\":\"#A2B1C6\",\"ticks\":\"\"}},\"title\":{\"x\":0.05},\"xaxis\":{\"automargin\":true,\"gridcolor\":\"#EBF0F8\",\"linecolor\":\"#EBF0F8\",\"ticks\":\"\",\"title\":{\"standoff\":15},\"zerolinecolor\":\"#EBF0F8\",\"zerolinewidth\":2},\"yaxis\":{\"automargin\":true,\"gridcolor\":\"#EBF0F8\",\"linecolor\":\"#EBF0F8\",\"ticks\":\"\",\"title\":{\"standoff\":15},\"zerolinecolor\":\"#EBF0F8\",\"zerolinewidth\":2}}},\"violingap\":0,\"violinmode\":\"overlay\"},                        {\"responsive\": true}                    ).then(function(){\n",
       "                            \n",
       "var gd = document.getElementById('63b2da01-3d76-4867-a25b-84ba0e02da30');\n",
       "var x = new MutationObserver(function (mutations, observer) {{\n",
       "        var display = window.getComputedStyle(gd).display;\n",
       "        if (!display || display === 'none') {{\n",
       "            console.log([gd, 'removed!']);\n",
       "            Plotly.purge(gd);\n",
       "            observer.disconnect();\n",
       "        }}\n",
       "}});\n",
       "\n",
       "// Listen for the removal of the full notebook cells\n",
       "var notebookContainer = gd.closest('#notebook-container');\n",
       "if (notebookContainer) {{\n",
       "    x.observe(notebookContainer, {childList: true});\n",
       "}}\n",
       "\n",
       "// Listen for the clearing of the current output cell\n",
       "var outputEl = gd.closest('.output');\n",
       "if (outputEl) {{\n",
       "    x.observe(outputEl, {childList: true});\n",
       "}}\n",
       "\n",
       "                        })                };                });            </script>        </div>"
      ]
     },
     "metadata": {},
     "output_type": "display_data"
    }
   ],
   "source": [
    "# Importing library\n",
    "import pandas as pd\n",
    "import plotly.express as px\n",
    "import plotly.graph_objs as go\n",
    "\n",
    "# Calling the dataset\n",
    "df = px.data.gapminder()\n",
    "df = df.replace('Oceania','Asia & Oceania')\n",
    "df = df.replace('Asia','Asia & Oceania')\n",
    "\n",
    "# Making a split violin\n",
    "fig = go.Figure()\n",
    "fig.add_trace(\n",
    "        go.Violin(x=df['continent'][df['year']==2002], y=df['lifeExp'][df['year']==2002], \n",
    "                  legendgroup='2002', scalegroup='2002', name='2002',\n",
    "                  side='negative', line_color='grey')\n",
    "             )\n",
    "fig.add_trace(\n",
    "        go.Violin(x=df['continent'][df['year']==2007], y=df['lifeExp'][df['year']==2007], \n",
    "                  legendgroup='2007', scalegroup='2007', name='2007',\n",
    "                  side='positive', line_color='black')\n",
    "             )\n",
    "fig.update_traces(meanline_visible=True)\n",
    "fig.update_layout(violingap=0, violinmode='overlay', template='plotly_white')\n",
    "fig.show()"
   ]
  },
  {
   "cell_type": "code",
   "execution_count": null,
   "metadata": {},
   "outputs": [],
   "source": []
  }
 ],
 "metadata": {
  "kernelspec": {
   "display_name": "Python 3",
   "language": "python",
   "name": "python3"
  },
  "language_info": {
   "codemirror_mode": {
    "name": "ipython",
    "version": 3
   },
   "file_extension": ".py",
   "mimetype": "text/x-python",
   "name": "python",
   "nbconvert_exporter": "python",
   "pygments_lexer": "ipython3",
   "version": "3.8.5"
  }
 },
 "nbformat": 4,
 "nbformat_minor": 4
}
